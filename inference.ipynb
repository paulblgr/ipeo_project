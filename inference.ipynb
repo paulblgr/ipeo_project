{
 "cells": [
  {
   "cell_type": "code",
   "execution_count": null,
   "metadata": {},
   "outputs": [],
   "source": [
    "#!pip install -r requirements.txt\n",
    "from tqdm import tqdm\n",
    "import subprocess\n",
    "from PIL import Image\n",
    "import numpy as np\n",
    "import rasterio as rio\n",
    "\n",
    "from utils import *\n",
    "from unet_whole_model import *\n",
    "from dataset import *\n",
    "\n",
    "%matplotlib inline\n",
    "%load_ext autoreload\n",
    "%autoreload 2\n"
   ]
  },
  {
   "cell_type": "markdown",
   "metadata": {},
   "source": [
    "### Loading Dataset"
   ]
  },
  {
   "cell_type": "code",
   "execution_count": null,
   "metadata": {},
   "outputs": [],
   "source": [
    "test_0_data_paths = load_paths_data('glaciers_mapping_downsampled/test/date0')\n",
    "test_gt_data_paths = load_paths_data('glaciers_mapping_downsampled/test/gt')\n",
    "test0_dataset = PatchesDataset(test_0_data_paths,test_gt_data_paths, 'test0')"
   ]
  },
  {
   "cell_type": "markdown",
   "metadata": {},
   "source": [
    "### Loading trained model"
   ]
  },
  {
   "cell_type": "code",
   "execution_count": null,
   "metadata": {},
   "outputs": [],
   "source": [
    "lr = 8e-4\n",
    "model_name = 'the_best_model'\n",
    "model = Model(model_name,lr =lr)\n",
    "\n",
    "model_name_epoch = 'the_best_model_epoch_10'\n",
    "\n",
    "model.load(model_name_epoch)"
   ]
  }
 ],
 "metadata": {
  "language_info": {
   "name": "python"
  }
 },
 "nbformat": 4,
 "nbformat_minor": 2
}
