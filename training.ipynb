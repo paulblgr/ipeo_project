{
 "cells": [
  {
   "cell_type": "code",
   "execution_count": 1,
   "metadata": {},
   "outputs": [],
   "source": [
    "import torch\n",
    "import sys\n",
    "import numpy as np\n",
    "from utils import *\n",
    "from model import *\n",
    "%matplotlib inline\n",
    "%load_ext autoreload\n"
   ]
  },
  {
   "cell_type": "code",
   "execution_count": 3,
   "metadata": {},
   "outputs": [],
   "source": [
    "import numpy as np\n",
    "from skimage.io import imsave, imread\n",
    "import imagecodecs\n",
    "\n",
    "path_august = 'glaciers_mapping_downsampled/test/'\n",
    "\n",
    "image_juillet = imagecodecs.imread(path_august + 'date0/patch_0_0.tif')\n",
    "image_aout = imagecodecs.imread(path_august + 'date1/patch_0_0.tif')\n"
   ]
  },
  {
   "cell_type": "code",
   "execution_count": 7,
   "metadata": {},
   "outputs": [],
   "source": [
    "import numpy as np\n",
    "\n",
    "def normalize_image_patch(patch):\n",
    "    \"\"\"\n",
    "    Normalize image patch with 4 bands\n",
    "    \n",
    "    Parameters\n",
    "    ----------\n",
    "    patch : numpy array\n",
    "        Image patch numpy array with shape (height, width, num_bands)\n",
    "    \n",
    "    Returns\n",
    "    -------\n",
    "    normalized_patch : numpy array\n",
    "        Normalized image patch numpy array with the same shape as the input patch\n",
    "    \"\"\"\n",
    "    normalized_patch = np.zeros_like(patch, dtype=np.float32)\n",
    "    \n",
    "    for band in range(patch.shape[2]):\n",
    "        band_data = patch[:, :, band]\n",
    "        min_val = np.min(band_data)\n",
    "        max_val = np.max(band_data)\n",
    "        \n",
    "        # Normalize each band to values between 0 and 1\n",
    "        normalized_band = (band_data - min_val) / (max_val - min_val + 1e-8)\n",
    "        normalized_patch[:, :, band] = normalized_band\n",
    "    \n",
    "    return normalized_patch\n"
   ]
  },
  {
   "cell_type": "code",
   "execution_count": 8,
   "metadata": {},
   "outputs": [
    {
     "name": "stdout",
     "output_type": "stream",
     "text": [
      "[[[2.01396141e-02 1.79999992e-02 1.21759633e-02 4.20841686e-02]\n",
      "  [2.30281632e-02 1.69166662e-02 1.17831901e-02 4.55911867e-02]\n",
      "  [2.34293509e-02 2.16666665e-02 9.13197175e-03 4.78456914e-02]\n",
      "  ...\n",
      "  [5.39998412e-02 4.75833341e-02 8.64100549e-03 0.00000000e+00]\n",
      "  [5.68081513e-02 4.69999984e-02 8.05184618e-03 0.00000000e+00]\n",
      "  [5.59255444e-02 4.68333326e-02 7.85546005e-03 0.00000000e+00]]\n",
      "\n",
      " [[1.82941519e-02 1.51666664e-02 1.21759633e-02 3.04358713e-02]\n",
      "  [1.68498755e-02 1.84999984e-02 1.15868039e-02 2.90581156e-02]\n",
      "  [1.44427503e-02 1.33333337e-02 1.23723494e-02 5.28557114e-02]\n",
      "  ...\n",
      "  [5.72895780e-02 4.78333309e-02 8.44461937e-03 0.00000000e+00]\n",
      "  [5.52034043e-02 4.66666669e-02 9.42655187e-03 0.00000000e+00]\n",
      "  [5.48824556e-02 4.64166664e-02 8.54281243e-03 0.00000000e+00]]\n",
      "\n",
      " [[2.69598011e-02 3.28333303e-02 3.83935608e-02 8.01603273e-02]\n",
      "  [3.54649760e-02 3.12500000e-02 1.19599372e-01 7.64028057e-02]\n",
      "  [2.80028880e-02 2.08333321e-02 3.13236453e-02 6.26252517e-02]\n",
      "  ...\n",
      "  [5.43207899e-02 4.59999964e-02 6.48075435e-03 0.00000000e+00]\n",
      "  [5.66476807e-02 4.73333299e-02 7.06991367e-03 0.00000000e+00]\n",
      "  [5.59255444e-02 4.44999970e-02 6.77533401e-03 0.00000000e+00]]\n",
      "\n",
      " ...\n",
      "\n",
      " [[9.09893289e-02 1.00499995e-01 1.28043994e-01 1.64579168e-01]\n",
      "  [1.84064835e-01 1.61166653e-01 1.97957590e-01 2.49499008e-01]\n",
      "  [1.30626649e-01 1.42166659e-01 1.73802048e-01 2.63026059e-01]\n",
      "  ...\n",
      "  [4.94904935e-01 4.76333320e-01 5.57737648e-01 6.55811608e-01]\n",
      "  [3.17098618e-01 3.08999985e-01 3.91987443e-01 5.01503050e-01]\n",
      "  [4.12420742e-02 5.62499985e-02 7.90455639e-02 1.18737482e-01]]\n",
      "\n",
      " [[4.53341901e-02 6.79999962e-02 8.20895582e-02 1.48296595e-01]\n",
      "  [1.32391881e-02 3.96666676e-02 4.77219187e-02 1.22119233e-01]\n",
      "  [4.61365655e-02 6.84999973e-02 9.47564840e-02 2.13176370e-01]\n",
      "  ...\n",
      "  [6.59231365e-01 7.19999969e-01 7.94186950e-01 8.23647320e-01]\n",
      "  [6.93893909e-01 7.03999996e-01 8.17753375e-01 8.47194433e-01]\n",
      "  [6.52170420e-01 6.60666645e-01 7.64336228e-01 8.02605212e-01]]\n",
      "\n",
      " [[4.81425057e-04 1.98333338e-02 3.53495665e-02 9.34368819e-02]\n",
      "  [2.17443649e-02 4.01666649e-02 6.83424994e-02 1.48296595e-01]\n",
      "  [7.14113787e-02 9.66666564e-02 1.24901816e-01 2.06663340e-01]\n",
      "  ...\n",
      "  [6.57947540e-01 6.67333305e-01 7.66692877e-01 8.45190346e-01]\n",
      "  [6.82981610e-01 6.88666642e-01 7.94186950e-01 8.37675333e-01]\n",
      "  [7.24705100e-01 7.27333307e-01 8.16182315e-01 8.48196447e-01]]]\n"
     ]
    }
   ],
   "source": [
    "norm_image= normalize_image_patch(image_juillet)\n",
    "print(norm_image)"
   ]
  }
 ],
 "metadata": {
  "kernelspec": {
   "display_name": "Python 3",
   "language": "python",
   "name": "python3"
  },
  "language_info": {
   "codemirror_mode": {
    "name": "ipython",
    "version": 3
   },
   "file_extension": ".py",
   "mimetype": "text/x-python",
   "name": "python",
   "nbconvert_exporter": "python",
   "pygments_lexer": "ipython3",
   "version": "3.9.13"
  }
 },
 "nbformat": 4,
 "nbformat_minor": 2
}
